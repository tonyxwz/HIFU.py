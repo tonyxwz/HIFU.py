{
 "cells": [
  {
   "cell_type": "code",
   "execution_count": 2,
   "metadata": {},
   "outputs": [],
   "source": [
    "import numpy as np\n",
    "from pyHIFU.geometric.vec3 import EPS"
   ]
  },
  {
   "cell_type": "code",
   "execution_count": 3,
   "metadata": {},
   "outputs": [],
   "source": [
    "def properRound(a, b, d, s):\n",
    "    \"\"\" return `a // b`, along with handling EPS problem\n",
    "    `a`: upper\n",
    "    `b`: lower\n",
    "    `d`: deltas\n",
    "    `s`: steps\n",
    "    \"\"\"\n",
    "    q = a // b\n",
    "    remainders = a % b\n",
    "\n",
    "    for i in range(len(remainders)): # x y z\n",
    "        if remainders[i] < EPS and remainders[i] > 0:\n",
    "            remainders[i] = b[i]\n",
    "            if s[i] < 0:\n",
    "                q[i] = q[i] - 1\n",
    "        elif b[i] - remainders[i] < EPS:\n",
    "            remainders[i] = b[i]\n",
    "            if s[i] > 0:\n",
    "                q[i] = q[i] + 1\n",
    "    return q, remainders"
   ]
  },
  {
   "cell_type": "code",
   "execution_count": 17,
   "metadata": {},
   "outputs": [],
   "source": [
    "a = np.array([1.000000000000001, 0.7, 0.3])\n",
    "b = np.array([1,1,1])\n",
    "d = np.array([1.2,1.4,1.7])\n",
    "s = np.array([1,1,1])"
   ]
  },
  {
   "cell_type": "code",
   "execution_count": 21,
   "metadata": {},
   "outputs": [
    {
     "name": "stdout",
     "output_type": "stream",
     "text": [
      "q: [1. 0. 0.]\n",
      "r: [1.11022302e-15 7.00000000e-01 3.00000000e-01]\n"
     ]
    }
   ],
   "source": [
    "q = a // b\n",
    "remainders = a % b\n",
    "print(\"q:\", q)\n",
    "print(\"r:\", remainders)"
   ]
  },
  {
   "cell_type": "code",
   "execution_count": 25,
   "metadata": {},
   "outputs": [
    {
     "name": "stdout",
     "output_type": "stream",
     "text": [
      "q: [1. 0. 0.]\n",
      "r: [1.  0.7 0.3]\n"
     ]
    }
   ],
   "source": [
    "q, r = properRound(a, b, d, s)\n",
    "print(\"q:\", q)\n",
    "print(\"r:\", r)"
   ]
  },
  {
   "cell_type": "code",
   "execution_count": 26,
   "metadata": {},
   "outputs": [
    {
     "name": "stdout",
     "output_type": "stream",
     "text": [
      "q: [0. 0. 0.]\n",
      "r: [1.  0.7 0.3]\n"
     ]
    }
   ],
   "source": [
    "q, r = properRound(a, b, d, -s)\n",
    "print(\"q:\", q)\n",
    "print(\"r:\", r)"
   ]
  },
  {
   "cell_type": "code",
   "execution_count": 5,
   "metadata": {},
   "outputs": [
    {
     "data": {
      "text/plain": [
       "1.0"
      ]
     },
     "execution_count": 5,
     "metadata": {},
     "output_type": "execute_result"
    }
   ],
   "source": [
    "1+1e-17 % 1"
   ]
  },
  {
   "cell_type": "code",
   "execution_count": 65,
   "metadata": {},
   "outputs": [
    {
     "data": {
      "text/plain": [
       "-1.0"
      ]
     },
     "execution_count": 65,
     "metadata": {},
     "output_type": "execute_result"
    }
   ],
   "source": [
    "-0.000000000000001 // 1"
   ]
  },
  {
   "cell_type": "code",
   "execution_count": 7,
   "metadata": {},
   "outputs": [
    {
     "data": {
      "text/plain": [
       "1e-12"
      ]
     },
     "execution_count": 7,
     "metadata": {},
     "output_type": "execute_result"
    }
   ],
   "source": [
    "EPS"
   ]
  },
  {
   "cell_type": "code",
   "execution_count": 33,
   "metadata": {},
   "outputs": [],
   "source": [
    "a = np.array([-0.000000000000001, 0.7, 0.3])\n",
    "b = np.array([1,1,1])\n",
    "d = np.array([1.2,1.4,1.7])\n",
    "s = np.array([1,1,1])"
   ]
  },
  {
   "cell_type": "code",
   "execution_count": 42,
   "metadata": {},
   "outputs": [
    {
     "data": {
      "text/plain": [
       "9.992007221626409e-16"
      ]
     },
     "execution_count": 42,
     "metadata": {},
     "output_type": "execute_result"
    }
   ],
   "source": [
    "sss = a % b\n",
    "1 - sss[0]"
   ]
  },
  {
   "cell_type": "code",
   "execution_count": null,
   "metadata": {},
   "outputs": [],
   "source": []
  },
  {
   "cell_type": "code",
   "execution_count": 5,
   "metadata": {
    "scrolled": true
   },
   "outputs": [
    {
     "name": "stdout",
     "output_type": "stream",
     "text": [
      "q: [2. 0. 0.]\n",
      "r: [1.  0.7 0.3]\n"
     ]
    }
   ],
   "source": [
    "a = np.array([2.000000000000001, 0.7, 0.3])\n",
    "b = np.array([1, 1, 1])\n",
    "d = np.array([1.2, 1.4, 1.7])\n",
    "s = np.array([1, 1, 1])\n",
    "q, r = properRound(a, b, d, s)\n",
    "print(\"q:\", q)\n",
    "print(\"r:\", r)"
   ]
  },
  {
   "cell_type": "code",
   "execution_count": 6,
   "metadata": {},
   "outputs": [
    {
     "name": "stdout",
     "output_type": "stream",
     "text": [
      "q: [1. 0. 0.]\n",
      "r: [1.  0.7 0.3]\n"
     ]
    }
   ],
   "source": [
    "a = np.array([2.000000000000001, 0.7, 0.3])\n",
    "b = np.array([1, 1, 1])\n",
    "d = np.array([1.2, 1.4, 1.7])\n",
    "s = np.array([1, 1, 1])\n",
    "q, r = properRound(a, b, d, -s)\n",
    "print(\"q:\", q)\n",
    "print(\"r:\", r)"
   ]
  },
  {
   "cell_type": "code",
   "execution_count": 8,
   "metadata": {},
   "outputs": [
    {
     "name": "stdout",
     "output_type": "stream",
     "text": [
      "q: [2. 0. 0.]\n",
      "r: [0.3 0.7 0.3]\n"
     ]
    }
   ],
   "source": [
    "a = np.array([2.3, 0.7, 0.3])\n",
    "b = np.array([1, 1, 1])\n",
    "d = np.array([1.2, 1.4, 1.7])\n",
    "s = np.array([1, 1, 1])\n",
    "q, r = properRound(a, b, d, -s)\n",
    "print(\"q:\", q)\n",
    "print(\"r:\", r)"
   ]
  },
  {
   "cell_type": "code",
   "execution_count": 9,
   "metadata": {},
   "outputs": [
    {
     "name": "stdout",
     "output_type": "stream",
     "text": [
      "q: [2. 0. 0.]\n",
      "r: [0.3 0.7 0.3]\n"
     ]
    }
   ],
   "source": [
    "a = np.array([2.3, 0.7, 0.3])\n",
    "b = np.array([1, 1, 1])\n",
    "d = np.array([1.2, 1.4, 1.7])\n",
    "s = np.array([1, 1, 1])\n",
    "q, r = properRound(a, b, d, s)\n",
    "print(\"q:\", q)\n",
    "print(\"r:\", r)"
   ]
  },
  {
   "cell_type": "code",
   "execution_count": null,
   "metadata": {},
   "outputs": [],
   "source": []
  }
 ],
 "metadata": {
  "kernelspec": {
   "display_name": "Python 3",
   "language": "python",
   "name": "python3"
  },
  "language_info": {
   "codemirror_mode": {
    "name": "ipython",
    "version": 3
   },
   "file_extension": ".py",
   "mimetype": "text/x-python",
   "name": "python",
   "nbconvert_exporter": "python",
   "pygments_lexer": "ipython3",
   "version": "3.6.7"
  }
 },
 "nbformat": 4,
 "nbformat_minor": 2
}
